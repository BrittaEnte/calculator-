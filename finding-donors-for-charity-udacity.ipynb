{
 "cells": [
  {
   "cell_type": "code",
   "execution_count": 1,
   "id": "53151517",
   "metadata": {
    "_cell_guid": "b1076dfc-b9ad-4769-8c92-a6c4dae69d19",
    "_uuid": "8f2839f25d086af736a60e9eeb907d3b93b6e0e5",
    "execution": {
     "iopub.execute_input": "2022-01-29T11:23:06.288143Z",
     "iopub.status.busy": "2022-01-29T11:23:06.287529Z",
     "iopub.status.idle": "2022-01-29T11:23:06.299811Z",
     "shell.execute_reply": "2022-01-29T11:23:06.300321Z",
     "shell.execute_reply.started": "2022-01-29T11:05:45.958660Z"
    },
    "papermill": {
     "duration": 0.061398,
     "end_time": "2022-01-29T11:23:06.300644",
     "exception": false,
     "start_time": "2022-01-29T11:23:06.239246",
     "status": "completed"
    },
    "tags": []
   },
   "outputs": [
    {
     "name": "stdout",
     "output_type": "stream",
     "text": [
      "/kaggle/input/udacity-mlcharity-competition/census.csv\n",
      "/kaggle/input/udacity-mlcharity-competition/example_submission.csv\n",
      "/kaggle/input/udacity-mlcharity-competition/test_census.csv\n"
     ]
    }
   ],
   "source": [
    "# This Python 3 environment comes with many helpful analytics libraries installed\n",
    "# It is defined by the kaggle/python Docker image: https://github.com/kaggle/docker-python\n",
    "# For example, here's several helpful packages to load\n",
    "\n",
    "import numpy as np # linear algebra\n",
    "import pandas as pd # data processing, CSV file I/O (e.g. pd.read_csv)\n",
    "\n",
    "# Input data files are available in the read-only \"../input/\" directory\n",
    "# For example, running this (by clicking run or pressing Shift+Enter) will list all files under the input directory\n",
    "\n",
    "import os\n",
    "for dirname, _, filenames in os.walk('/kaggle/input'):\n",
    "    for filename in filenames:\n",
    "        print(os.path.join(dirname, filename))\n",
    "\n",
    "# You can write up to 20GB to the current directory (/kaggle/working/) that gets preserved as output when you create a version using \"Save & Run All\" \n",
    "# You can also write temporary files to /kaggle/temp/, but they won't be saved outside of the current session"
   ]
  },
  {
   "cell_type": "markdown",
   "id": "208b7094",
   "metadata": {
    "papermill": {
     "duration": 0.037094,
     "end_time": "2022-01-29T11:23:06.379841",
     "exception": false,
     "start_time": "2022-01-29T11:23:06.342747",
     "status": "completed"
    },
    "tags": []
   },
   "source": [
    "## 1.1 Import all Libraries"
   ]
  },
  {
   "cell_type": "code",
   "execution_count": 2,
   "id": "08ee687b",
   "metadata": {
    "execution": {
     "iopub.execute_input": "2022-01-29T11:23:06.463011Z",
     "iopub.status.busy": "2022-01-29T11:23:06.462193Z",
     "iopub.status.idle": "2022-01-29T11:23:07.796177Z",
     "shell.execute_reply": "2022-01-29T11:23:07.796771Z",
     "shell.execute_reply.started": "2022-01-29T11:05:45.971359Z"
    },
    "papermill": {
     "duration": 1.376168,
     "end_time": "2022-01-29T11:23:07.796955",
     "exception": false,
     "start_time": "2022-01-29T11:23:06.420787",
     "status": "completed"
    },
    "tags": []
   },
   "outputs": [],
   "source": [
    "import pandas as pd\n",
    "import matplotlib.pyplot as plt\n",
    "import numpy as np\n",
    "from sklearn.pipeline import Pipeline, FeatureUnion\n",
    "from sklearn.preprocessing import FunctionTransformer, MinMaxScaler\n",
    "from sklearn.preprocessing import MinMaxScaler\n",
    "from sklearn.impute import SimpleImputer\n",
    "from sklearn.model_selection import train_test_split\n",
    "from sklearn.ensemble import AdaBoostClassifier\n",
    "from sklearn.metrics import roc_auc_score"
   ]
  },
  {
   "cell_type": "markdown",
   "id": "7a6d5511",
   "metadata": {
    "papermill": {
     "duration": 0.038387,
     "end_time": "2022-01-29T11:23:07.874348",
     "exception": false,
     "start_time": "2022-01-29T11:23:07.835961",
     "status": "completed"
    },
    "tags": []
   },
   "source": [
    "## 1.2 EDA "
   ]
  },
  {
   "cell_type": "markdown",
   "id": "2a509a99",
   "metadata": {
    "papermill": {
     "duration": 0.038148,
     "end_time": "2022-01-29T11:23:07.950516",
     "exception": false,
     "start_time": "2022-01-29T11:23:07.912368",
     "status": "completed"
    },
    "tags": []
   },
   "source": [
    "## Description of the problem\n",
    "CharityML is a fictitious charity organization located in the heart of Silicon Valley that was established to provide financial support for people eager to learn machine learning. After nearly 32,000 letters were sent to people in the community, CharityML determined that every donation they received came from someone that was making more than $50,000 annually. To expand their potential donor base, CharityML has decided to send letters to residents of California, but to only those most likely to donate to the charity. With nearly 15 million working Californians, CharityML has brought you on board to help build an algorithm to best identify potential donors and reduce overhead cost of sending mail. Your goal will be evaluate and optimize several different supervised learners to determine which algorithm will provide the highest donation yield while also reducing the total number of letters being sent."
   ]
  },
  {
   "cell_type": "markdown",
   "id": "da98f938",
   "metadata": {
    "papermill": {
     "duration": 0.038146,
     "end_time": "2022-01-29T11:23:08.028149",
     "exception": false,
     "start_time": "2022-01-29T11:23:07.990003",
     "status": "completed"
    },
    "tags": []
   },
   "source": []
  },
  {
   "cell_type": "code",
   "execution_count": 3,
   "id": "d9d67b3f",
   "metadata": {
    "execution": {
     "iopub.execute_input": "2022-01-29T11:23:08.107456Z",
     "iopub.status.busy": "2022-01-29T11:23:08.106473Z",
     "iopub.status.idle": "2022-01-29T11:23:08.309467Z",
     "shell.execute_reply": "2022-01-29T11:23:08.309993Z",
     "shell.execute_reply.started": "2022-01-29T11:05:45.985152Z"
    },
    "papermill": {
     "duration": 0.243636,
     "end_time": "2022-01-29T11:23:08.310160",
     "exception": false,
     "start_time": "2022-01-29T11:23:08.066524",
     "status": "completed"
    },
    "tags": []
   },
   "outputs": [
    {
     "data": {
      "text/html": [
       "<div>\n",
       "<style scoped>\n",
       "    .dataframe tbody tr th:only-of-type {\n",
       "        vertical-align: middle;\n",
       "    }\n",
       "\n",
       "    .dataframe tbody tr th {\n",
       "        vertical-align: top;\n",
       "    }\n",
       "\n",
       "    .dataframe thead th {\n",
       "        text-align: right;\n",
       "    }\n",
       "</style>\n",
       "<table border=\"1\" class=\"dataframe\">\n",
       "  <thead>\n",
       "    <tr style=\"text-align: right;\">\n",
       "      <th></th>\n",
       "      <th>age</th>\n",
       "      <th>workclass</th>\n",
       "      <th>education_level</th>\n",
       "      <th>education-num</th>\n",
       "      <th>marital-status</th>\n",
       "      <th>occupation</th>\n",
       "      <th>relationship</th>\n",
       "      <th>race</th>\n",
       "      <th>sex</th>\n",
       "      <th>capital-gain</th>\n",
       "      <th>capital-loss</th>\n",
       "      <th>hours-per-week</th>\n",
       "      <th>native-country</th>\n",
       "      <th>income</th>\n",
       "    </tr>\n",
       "  </thead>\n",
       "  <tbody>\n",
       "    <tr>\n",
       "      <th>0</th>\n",
       "      <td>39</td>\n",
       "      <td>State-gov</td>\n",
       "      <td>Bachelors</td>\n",
       "      <td>13.0</td>\n",
       "      <td>Never-married</td>\n",
       "      <td>Adm-clerical</td>\n",
       "      <td>Not-in-family</td>\n",
       "      <td>White</td>\n",
       "      <td>Male</td>\n",
       "      <td>2174.0</td>\n",
       "      <td>0.0</td>\n",
       "      <td>40.0</td>\n",
       "      <td>United-States</td>\n",
       "      <td>&lt;=50K</td>\n",
       "    </tr>\n",
       "    <tr>\n",
       "      <th>1</th>\n",
       "      <td>50</td>\n",
       "      <td>Self-emp-not-inc</td>\n",
       "      <td>Bachelors</td>\n",
       "      <td>13.0</td>\n",
       "      <td>Married-civ-spouse</td>\n",
       "      <td>Exec-managerial</td>\n",
       "      <td>Husband</td>\n",
       "      <td>White</td>\n",
       "      <td>Male</td>\n",
       "      <td>0.0</td>\n",
       "      <td>0.0</td>\n",
       "      <td>13.0</td>\n",
       "      <td>United-States</td>\n",
       "      <td>&lt;=50K</td>\n",
       "    </tr>\n",
       "    <tr>\n",
       "      <th>2</th>\n",
       "      <td>38</td>\n",
       "      <td>Private</td>\n",
       "      <td>HS-grad</td>\n",
       "      <td>9.0</td>\n",
       "      <td>Divorced</td>\n",
       "      <td>Handlers-cleaners</td>\n",
       "      <td>Not-in-family</td>\n",
       "      <td>White</td>\n",
       "      <td>Male</td>\n",
       "      <td>0.0</td>\n",
       "      <td>0.0</td>\n",
       "      <td>40.0</td>\n",
       "      <td>United-States</td>\n",
       "      <td>&lt;=50K</td>\n",
       "    </tr>\n",
       "    <tr>\n",
       "      <th>3</th>\n",
       "      <td>53</td>\n",
       "      <td>Private</td>\n",
       "      <td>11th</td>\n",
       "      <td>7.0</td>\n",
       "      <td>Married-civ-spouse</td>\n",
       "      <td>Handlers-cleaners</td>\n",
       "      <td>Husband</td>\n",
       "      <td>Black</td>\n",
       "      <td>Male</td>\n",
       "      <td>0.0</td>\n",
       "      <td>0.0</td>\n",
       "      <td>40.0</td>\n",
       "      <td>United-States</td>\n",
       "      <td>&lt;=50K</td>\n",
       "    </tr>\n",
       "    <tr>\n",
       "      <th>4</th>\n",
       "      <td>28</td>\n",
       "      <td>Private</td>\n",
       "      <td>Bachelors</td>\n",
       "      <td>13.0</td>\n",
       "      <td>Married-civ-spouse</td>\n",
       "      <td>Prof-specialty</td>\n",
       "      <td>Wife</td>\n",
       "      <td>Black</td>\n",
       "      <td>Female</td>\n",
       "      <td>0.0</td>\n",
       "      <td>0.0</td>\n",
       "      <td>40.0</td>\n",
       "      <td>Cuba</td>\n",
       "      <td>&lt;=50K</td>\n",
       "    </tr>\n",
       "  </tbody>\n",
       "</table>\n",
       "</div>"
      ],
      "text/plain": [
       "   age          workclass education_level  education-num       marital-status  \\\n",
       "0   39          State-gov       Bachelors           13.0        Never-married   \n",
       "1   50   Self-emp-not-inc       Bachelors           13.0   Married-civ-spouse   \n",
       "2   38            Private         HS-grad            9.0             Divorced   \n",
       "3   53            Private            11th            7.0   Married-civ-spouse   \n",
       "4   28            Private       Bachelors           13.0   Married-civ-spouse   \n",
       "\n",
       "           occupation    relationship    race      sex  capital-gain  \\\n",
       "0        Adm-clerical   Not-in-family   White     Male        2174.0   \n",
       "1     Exec-managerial         Husband   White     Male           0.0   \n",
       "2   Handlers-cleaners   Not-in-family   White     Male           0.0   \n",
       "3   Handlers-cleaners         Husband   Black     Male           0.0   \n",
       "4      Prof-specialty            Wife   Black   Female           0.0   \n",
       "\n",
       "   capital-loss  hours-per-week  native-country income  \n",
       "0           0.0            40.0   United-States  <=50K  \n",
       "1           0.0            13.0   United-States  <=50K  \n",
       "2           0.0            40.0   United-States  <=50K  \n",
       "3           0.0            40.0   United-States  <=50K  \n",
       "4           0.0            40.0            Cuba  <=50K  "
      ]
     },
     "execution_count": 3,
     "metadata": {},
     "output_type": "execute_result"
    }
   ],
   "source": [
    "df = pd.read_csv(\"../input/udacity-mlcharity-competition/census.csv\")\n",
    "df.head(5)\n"
   ]
  },
  {
   "cell_type": "code",
   "execution_count": 4,
   "id": "79707e48",
   "metadata": {
    "execution": {
     "iopub.execute_input": "2022-01-29T11:23:08.389833Z",
     "iopub.status.busy": "2022-01-29T11:23:08.388835Z",
     "iopub.status.idle": "2022-01-29T11:23:08.432598Z",
     "shell.execute_reply": "2022-01-29T11:23:08.433268Z",
     "shell.execute_reply.started": "2022-01-29T11:05:46.124885Z"
    },
    "papermill": {
     "duration": 0.085267,
     "end_time": "2022-01-29T11:23:08.433483",
     "exception": false,
     "start_time": "2022-01-29T11:23:08.348216",
     "status": "completed"
    },
    "tags": []
   },
   "outputs": [
    {
     "data": {
      "text/html": [
       "<div>\n",
       "<style scoped>\n",
       "    .dataframe tbody tr th:only-of-type {\n",
       "        vertical-align: middle;\n",
       "    }\n",
       "\n",
       "    .dataframe tbody tr th {\n",
       "        vertical-align: top;\n",
       "    }\n",
       "\n",
       "    .dataframe thead th {\n",
       "        text-align: right;\n",
       "    }\n",
       "</style>\n",
       "<table border=\"1\" class=\"dataframe\">\n",
       "  <thead>\n",
       "    <tr style=\"text-align: right;\">\n",
       "      <th></th>\n",
       "      <th>age</th>\n",
       "      <th>education-num</th>\n",
       "      <th>capital-gain</th>\n",
       "      <th>capital-loss</th>\n",
       "      <th>hours-per-week</th>\n",
       "    </tr>\n",
       "  </thead>\n",
       "  <tbody>\n",
       "    <tr>\n",
       "      <th>count</th>\n",
       "      <td>45222.000000</td>\n",
       "      <td>45222.000000</td>\n",
       "      <td>45222.000000</td>\n",
       "      <td>45222.000000</td>\n",
       "      <td>45222.000000</td>\n",
       "    </tr>\n",
       "    <tr>\n",
       "      <th>mean</th>\n",
       "      <td>38.547941</td>\n",
       "      <td>10.118460</td>\n",
       "      <td>1101.430344</td>\n",
       "      <td>88.595418</td>\n",
       "      <td>40.938017</td>\n",
       "    </tr>\n",
       "    <tr>\n",
       "      <th>std</th>\n",
       "      <td>13.217870</td>\n",
       "      <td>2.552881</td>\n",
       "      <td>7506.430084</td>\n",
       "      <td>404.956092</td>\n",
       "      <td>12.007508</td>\n",
       "    </tr>\n",
       "    <tr>\n",
       "      <th>min</th>\n",
       "      <td>17.000000</td>\n",
       "      <td>1.000000</td>\n",
       "      <td>0.000000</td>\n",
       "      <td>0.000000</td>\n",
       "      <td>1.000000</td>\n",
       "    </tr>\n",
       "    <tr>\n",
       "      <th>25%</th>\n",
       "      <td>28.000000</td>\n",
       "      <td>9.000000</td>\n",
       "      <td>0.000000</td>\n",
       "      <td>0.000000</td>\n",
       "      <td>40.000000</td>\n",
       "    </tr>\n",
       "    <tr>\n",
       "      <th>50%</th>\n",
       "      <td>37.000000</td>\n",
       "      <td>10.000000</td>\n",
       "      <td>0.000000</td>\n",
       "      <td>0.000000</td>\n",
       "      <td>40.000000</td>\n",
       "    </tr>\n",
       "    <tr>\n",
       "      <th>75%</th>\n",
       "      <td>47.000000</td>\n",
       "      <td>13.000000</td>\n",
       "      <td>0.000000</td>\n",
       "      <td>0.000000</td>\n",
       "      <td>45.000000</td>\n",
       "    </tr>\n",
       "    <tr>\n",
       "      <th>max</th>\n",
       "      <td>90.000000</td>\n",
       "      <td>16.000000</td>\n",
       "      <td>99999.000000</td>\n",
       "      <td>4356.000000</td>\n",
       "      <td>99.000000</td>\n",
       "    </tr>\n",
       "  </tbody>\n",
       "</table>\n",
       "</div>"
      ],
      "text/plain": [
       "                age  education-num  capital-gain  capital-loss  hours-per-week\n",
       "count  45222.000000   45222.000000  45222.000000  45222.000000    45222.000000\n",
       "mean      38.547941      10.118460   1101.430344     88.595418       40.938017\n",
       "std       13.217870       2.552881   7506.430084    404.956092       12.007508\n",
       "min       17.000000       1.000000      0.000000      0.000000        1.000000\n",
       "25%       28.000000       9.000000      0.000000      0.000000       40.000000\n",
       "50%       37.000000      10.000000      0.000000      0.000000       40.000000\n",
       "75%       47.000000      13.000000      0.000000      0.000000       45.000000\n",
       "max       90.000000      16.000000  99999.000000   4356.000000       99.000000"
      ]
     },
     "execution_count": 4,
     "metadata": {},
     "output_type": "execute_result"
    }
   ],
   "source": [
    "df.describe()"
   ]
  },
  {
   "cell_type": "code",
   "execution_count": 5,
   "id": "fd00a2ed",
   "metadata": {
    "execution": {
     "iopub.execute_input": "2022-01-29T11:23:08.561293Z",
     "iopub.status.busy": "2022-01-29T11:23:08.560257Z",
     "iopub.status.idle": "2022-01-29T11:23:08.575563Z",
     "shell.execute_reply": "2022-01-29T11:23:08.574899Z",
     "shell.execute_reply.started": "2022-01-29T11:05:46.160905Z"
    },
    "papermill": {
     "duration": 0.103876,
     "end_time": "2022-01-29T11:23:08.575704",
     "exception": false,
     "start_time": "2022-01-29T11:23:08.471828",
     "status": "completed"
    },
    "tags": []
   },
   "outputs": [
    {
     "name": "stdout",
     "output_type": "stream",
     "text": [
      "<class 'pandas.core.frame.DataFrame'>\n",
      "RangeIndex: 45222 entries, 0 to 45221\n",
      "Data columns (total 14 columns):\n",
      " #   Column           Non-Null Count  Dtype  \n",
      "---  ------           --------------  -----  \n",
      " 0   age              45222 non-null  int64  \n",
      " 1   workclass        45222 non-null  object \n",
      " 2   education_level  45222 non-null  object \n",
      " 3   education-num    45222 non-null  float64\n",
      " 4   marital-status   45222 non-null  object \n",
      " 5   occupation       45222 non-null  object \n",
      " 6   relationship     45222 non-null  object \n",
      " 7   race             45222 non-null  object \n",
      " 8   sex              45222 non-null  object \n",
      " 9   capital-gain     45222 non-null  float64\n",
      " 10  capital-loss     45222 non-null  float64\n",
      " 11  hours-per-week   45222 non-null  float64\n",
      " 12  native-country   45222 non-null  object \n",
      " 13  income           45222 non-null  object \n",
      "dtypes: float64(4), int64(1), object(9)\n",
      "memory usage: 4.8+ MB\n"
     ]
    }
   ],
   "source": [
    "df.shape\n",
    "df.info()"
   ]
  },
  {
   "cell_type": "code",
   "execution_count": 6,
   "id": "020f491b",
   "metadata": {
    "execution": {
     "iopub.execute_input": "2022-01-29T11:23:08.662222Z",
     "iopub.status.busy": "2022-01-29T11:23:08.661472Z",
     "iopub.status.idle": "2022-01-29T11:23:08.716292Z",
     "shell.execute_reply": "2022-01-29T11:23:08.716945Z",
     "shell.execute_reply.started": "2022-01-29T11:05:46.222957Z"
    },
    "papermill": {
     "duration": 0.099415,
     "end_time": "2022-01-29T11:23:08.717138",
     "exception": false,
     "start_time": "2022-01-29T11:23:08.617723",
     "status": "completed"
    },
    "tags": []
   },
   "outputs": [
    {
     "data": {
      "text/plain": [
       "age                0\n",
       "workclass          0\n",
       "education_level    0\n",
       "education-num      0\n",
       "marital-status     0\n",
       "occupation         0\n",
       "relationship       0\n",
       "race               0\n",
       "sex                0\n",
       "capital-gain       0\n",
       "capital-loss       0\n",
       "hours-per-week     0\n",
       "native-country     0\n",
       "income             0\n",
       "dtype: int64"
      ]
     },
     "execution_count": 6,
     "metadata": {},
     "output_type": "execute_result"
    }
   ],
   "source": [
    "#checking for nan´s \n",
    "df.isnull().sum()"
   ]
  },
  {
   "cell_type": "markdown",
   "id": "25c87d6a",
   "metadata": {
    "papermill": {
     "duration": 0.039826,
     "end_time": "2022-01-29T11:23:08.796163",
     "exception": false,
     "start_time": "2022-01-29T11:23:08.756337",
     "status": "completed"
    },
    "tags": []
   },
   "source": []
  },
  {
   "cell_type": "code",
   "execution_count": 7,
   "id": "eb423b61",
   "metadata": {
    "execution": {
     "iopub.execute_input": "2022-01-29T11:23:08.883531Z",
     "iopub.status.busy": "2022-01-29T11:23:08.882391Z",
     "iopub.status.idle": "2022-01-29T11:23:08.886646Z",
     "shell.execute_reply": "2022-01-29T11:23:08.886108Z",
     "shell.execute_reply.started": "2022-01-29T11:05:46.280038Z"
    },
    "papermill": {
     "duration": 0.049461,
     "end_time": "2022-01-29T11:23:08.886788",
     "exception": false,
     "start_time": "2022-01-29T11:23:08.837327",
     "status": "completed"
    },
    "tags": []
   },
   "outputs": [
    {
     "data": {
      "text/plain": [
       "Index(['age', 'workclass', 'education_level', 'education-num',\n",
       "       'marital-status', 'occupation', 'relationship', 'race', 'sex',\n",
       "       'capital-gain', 'capital-loss', 'hours-per-week', 'native-country',\n",
       "       'income'],\n",
       "      dtype='object')"
      ]
     },
     "execution_count": 7,
     "metadata": {},
     "output_type": "execute_result"
    }
   ],
   "source": [
    "df.columns"
   ]
  },
  {
   "cell_type": "markdown",
   "id": "5af00e13",
   "metadata": {
    "papermill": {
     "duration": 0.039287,
     "end_time": "2022-01-29T11:23:08.966147",
     "exception": false,
     "start_time": "2022-01-29T11:23:08.926860",
     "status": "completed"
    },
    "tags": []
   },
   "source": [
    "### Describe the data \n",
    "* age: continuous.\n",
    "* workclass: Private, Self-emp-not-inc, Self-emp-inc, Federal-gov, Local-gov, State-gov, Without-pay, Never-worked.\n",
    "* education: Bachelors, Some-college, 11th, HS-grad, Prof-school, Assoc-acdm, Assoc-voc, 9th, 7th-8th, 12th, Masters, 1st-4th, 10th, Doctorate, 5th-6th, Preschool.\n",
    "* education-num: continuous.\n",
    "* marital-status: Married-civ-spouse, Divorced, Never-married, Separated, Widowed, Married-spouse-absent, Married-AF-spouse.\n",
    "* occupation: Tech-support, Craft-repair, Other-service, Sales, Exec-managerial, Prof-specialty, Handlers-cleaners, Machine-op-inspct, Adm-clerical, Farming-fishing, Transport-moving, Priv-house-serv, Protective-serv, Armed-Forces.\n",
    "* relationship: Wife, Own-child, Husband, Not-in-family, Other-relative, Unmarried.\n",
    "* race: Black, White, Asian-Pac-Islander, Amer-Indian-Eskimo, Other.\n",
    "* sex: Female, Male.\n",
    "* capital-gain: continuous.\n",
    "* capital-loss: continuous.\n",
    "* hours-per-week: continuous.\n",
    "* native-country: United-States, Cambodia, England, Puerto-Rico, Canada, Germany, Outlying-US(Guam-USVI-etc), India, Japan, Greece, South, China, Cuba, Iran, Honduras, Philippines, Italy, Poland, Jamaica, Vietnam, Mexico, Portugal, Ireland, France, Dominican-Republic, Laos, Ecuador, Taiwan, Haiti, Columbia, Hungary, Guatemala, Nicaragua, Scotland, Thailand, Yugoslavia, El-Salvador, Trinadad&Tobago, Peru, Hong, Holand-Netherlands."
   ]
  },
  {
   "cell_type": "code",
   "execution_count": 8,
   "id": "58d67c11",
   "metadata": {
    "execution": {
     "iopub.execute_input": "2022-01-29T11:23:09.055630Z",
     "iopub.status.busy": "2022-01-29T11:23:09.054530Z",
     "iopub.status.idle": "2022-01-29T11:23:09.306392Z",
     "shell.execute_reply": "2022-01-29T11:23:09.305801Z",
     "shell.execute_reply.started": "2022-01-29T11:05:46.290345Z"
    },
    "papermill": {
     "duration": 0.299409,
     "end_time": "2022-01-29T11:23:09.306560",
     "exception": false,
     "start_time": "2022-01-29T11:23:09.007151",
     "status": "completed"
    },
    "tags": []
   },
   "outputs": [
    {
     "data": {
      "text/plain": [
       "(array([7308., 8226., 8704., 8811., 5716., 3609., 2000.,  579.,  192.,\n",
       "          77.]),\n",
       " array([17. , 24.3, 31.6, 38.9, 46.2, 53.5, 60.8, 68.1, 75.4, 82.7, 90. ]),\n",
       " <BarContainer object of 10 artists>)"
      ]
     },
     "execution_count": 8,
     "metadata": {},
     "output_type": "execute_result"
    },
    {
     "data": {
      "image/png": "[encoded data removed]",
      "text/plain": [
       "<Figure size 432x288 with 1 Axes>"
      ]
     },
     "metadata": {
      "needs_background": "light"
     },
     "output_type": "display_data"
    }
   ],
   "source": [
    "#display age distribution \n",
    "plt.hist(df['age'], color = 'green', edgecolor = 'black')"
   ]
  },
  {
   "cell_type": "code",
   "execution_count": 9,
   "id": "dc96d08d",
   "metadata": {
    "execution": {
     "iopub.execute_input": "2022-01-29T11:23:09.417828Z",
     "iopub.status.busy": "2022-01-29T11:23:09.411908Z",
     "iopub.status.idle": "2022-01-29T11:23:09.655533Z",
     "shell.execute_reply": "2022-01-29T11:23:09.656049Z",
     "shell.execute_reply.started": "2022-01-29T11:05:46.523450Z"
    },
    "papermill": {
     "duration": 0.308936,
     "end_time": "2022-01-29T11:23:09.656213",
     "exception": false,
     "start_time": "2022-01-29T11:23:09.347277",
     "status": "completed"
    },
    "tags": []
   },
   "outputs": [
    {
     "data": {
      "text/plain": [
       "([0, 1, 2, 3, 4, 5, 6],\n",
       " [Text(0, 0, ''),\n",
       "  Text(0, 0, ''),\n",
       "  Text(0, 0, ''),\n",
       "  Text(0, 0, ''),\n",
       "  Text(0, 0, ''),\n",
       "  Text(0, 0, ''),\n",
       "  Text(0, 0, '')])"
      ]
     },
     "execution_count": 9,
     "metadata": {},
     "output_type": "execute_result"
    },
    {
     "data": {
      "image/png": "[encoded data removed]",
      "text/plain": [
       "<Figure size 432x288 with 1 Axes>"
      ]
     },
     "metadata": {
      "needs_background": "light"
     },
     "output_type": "display_data"
    }
   ],
   "source": [
    "#display maritial status distribution \n",
    "plt.hist(df['marital-status'], color = 'green', edgecolor = 'black')\n",
    "plt.xticks(rotation=90)"
   ]
  },
  {
   "cell_type": "code",
   "execution_count": 10,
   "id": "e97b001e",
   "metadata": {
    "execution": {
     "iopub.execute_input": "2022-01-29T11:23:09.744264Z",
     "iopub.status.busy": "2022-01-29T11:23:09.743203Z",
     "iopub.status.idle": "2022-01-29T11:23:09.987541Z",
     "shell.execute_reply": "2022-01-29T11:23:09.987022Z",
     "shell.execute_reply.started": "2022-01-29T11:05:46.775291Z"
    },
    "papermill": {
     "duration": 0.289291,
     "end_time": "2022-01-29T11:23:09.987682",
     "exception": false,
     "start_time": "2022-01-29T11:23:09.698391",
     "status": "completed"
    },
    "tags": []
   },
   "outputs": [
    {
     "data": {
      "text/plain": [
       " White                 38903\n",
       " Black                  4228\n",
       " Asian-Pac-Islander     1303\n",
       " Amer-Indian-Eskimo      435\n",
       " Other                   353\n",
       "Name: race, dtype: int64"
      ]
     },
     "execution_count": 10,
     "metadata": {},
     "output_type": "execute_result"
    },
    {
     "data": {
      "image/png": "[encoded data removed]",
      "text/plain": [
       "<Figure size 432x288 with 1 Axes>"
      ]
     },
     "metadata": {
      "needs_background": "light"
     },
     "output_type": "display_data"
    }
   ],
   "source": [
    "plt.hist(df['race'], color = 'green', edgecolor = 'black')\n",
    "df['race'].value_counts()"
   ]
  },
  {
   "cell_type": "code",
   "execution_count": 11,
   "id": "d132ca82",
   "metadata": {
    "execution": {
     "iopub.execute_input": "2022-01-29T11:23:10.087653Z",
     "iopub.status.busy": "2022-01-29T11:23:10.086690Z",
     "iopub.status.idle": "2022-01-29T11:23:10.091050Z",
     "shell.execute_reply": "2022-01-29T11:23:10.090375Z",
     "shell.execute_reply.started": "2022-01-29T11:05:47.011782Z"
    },
    "papermill": {
     "duration": 0.059557,
     "end_time": "2022-01-29T11:23:10.091192",
     "exception": false,
     "start_time": "2022-01-29T11:23:10.031635",
     "status": "completed"
    },
    "tags": []
   },
   "outputs": [
    {
     "data": {
      "text/plain": [
       " Male      30527\n",
       " Female    14695\n",
       "Name: sex, dtype: int64"
      ]
     },
     "execution_count": 11,
     "metadata": {},
     "output_type": "execute_result"
    }
   ],
   "source": [
    "df['sex'].value_counts()"
   ]
  },
  {
   "cell_type": "code",
   "execution_count": 12,
   "id": "b8a75013",
   "metadata": {
    "execution": {
     "iopub.execute_input": "2022-01-29T11:23:10.191278Z",
     "iopub.status.busy": "2022-01-29T11:23:10.190318Z",
     "iopub.status.idle": "2022-01-29T11:23:10.194968Z",
     "shell.execute_reply": "2022-01-29T11:23:10.194396Z",
     "shell.execute_reply.started": "2022-01-29T11:05:47.025646Z"
    },
    "papermill": {
     "duration": 0.06023,
     "end_time": "2022-01-29T11:23:10.195106",
     "exception": false,
     "start_time": "2022-01-29T11:23:10.134876",
     "status": "completed"
    },
    "tags": []
   },
   "outputs": [
    {
     "data": {
      "text/plain": [
       "<=50K    34014\n",
       ">50K     11208\n",
       "Name: income, dtype: int64"
      ]
     },
     "execution_count": 12,
     "metadata": {},
     "output_type": "execute_result"
    }
   ],
   "source": [
    "df['income'].value_counts()"
   ]
  },
  {
   "cell_type": "markdown",
   "id": "30d87933",
   "metadata": {
    "papermill": {
     "duration": 0.042966,
     "end_time": "2022-01-29T11:23:10.282267",
     "exception": false,
     "start_time": "2022-01-29T11:23:10.239301",
     "status": "completed"
    },
    "tags": []
   },
   "source": []
  },
  {
   "cell_type": "code",
   "execution_count": 13,
   "id": "b6369057",
   "metadata": {
    "execution": {
     "iopub.execute_input": "2022-01-29T11:23:10.377754Z",
     "iopub.status.busy": "2022-01-29T11:23:10.375233Z",
     "iopub.status.idle": "2022-01-29T11:23:10.669043Z",
     "shell.execute_reply": "2022-01-29T11:23:10.668386Z",
     "shell.execute_reply.started": "2022-01-29T11:05:47.039576Z"
    },
    "papermill": {
     "duration": 0.343511,
     "end_time": "2022-01-29T11:23:10.669191",
     "exception": false,
     "start_time": "2022-01-29T11:23:10.325680",
     "status": "completed"
    },
    "tags": []
   },
   "outputs": [
    {
     "data": {
      "text/html": [
       "<div>\n",
       "<style scoped>\n",
       "    .dataframe tbody tr th:only-of-type {\n",
       "        vertical-align: middle;\n",
       "    }\n",
       "\n",
       "    .dataframe tbody tr th {\n",
       "        vertical-align: top;\n",
       "    }\n",
       "\n",
       "    .dataframe thead th {\n",
       "        text-align: right;\n",
       "    }\n",
       "</style>\n",
       "<table border=\"1\" class=\"dataframe\">\n",
       "  <thead>\n",
       "    <tr style=\"text-align: right;\">\n",
       "      <th>income</th>\n",
       "      <th>&lt;=50K</th>\n",
       "      <th>&gt;50K</th>\n",
       "    </tr>\n",
       "    <tr>\n",
       "      <th>race</th>\n",
       "      <th></th>\n",
       "      <th></th>\n",
       "    </tr>\n",
       "  </thead>\n",
       "  <tbody>\n",
       "    <tr>\n",
       "      <th>Amer-Indian-Eskimo</th>\n",
       "      <td>382</td>\n",
       "      <td>53</td>\n",
       "    </tr>\n",
       "    <tr>\n",
       "      <th>Asian-Pac-Islander</th>\n",
       "      <td>934</td>\n",
       "      <td>369</td>\n",
       "    </tr>\n",
       "    <tr>\n",
       "      <th>Black</th>\n",
       "      <td>3694</td>\n",
       "      <td>534</td>\n",
       "    </tr>\n",
       "    <tr>\n",
       "      <th>Other</th>\n",
       "      <td>308</td>\n",
       "      <td>45</td>\n",
       "    </tr>\n",
       "    <tr>\n",
       "      <th>White</th>\n",
       "      <td>28696</td>\n",
       "      <td>10207</td>\n",
       "    </tr>\n",
       "  </tbody>\n",
       "</table>\n",
       "</div>"
      ],
      "text/plain": [
       "income               <=50K   >50K\n",
       "race                             \n",
       " Amer-Indian-Eskimo    382     53\n",
       " Asian-Pac-Islander    934    369\n",
       " Black                3694    534\n",
       " Other                 308     45\n",
       " White               28696  10207"
      ]
     },
     "metadata": {},
     "output_type": "display_data"
    },
    {
     "data": {
      "text/plain": [
       "<AxesSubplot:xlabel='race'>"
      ]
     },
     "execution_count": 13,
     "metadata": {},
     "output_type": "execute_result"
    },
    {
     "data": {
      "image/png": "[encoded data removed]",
      "text/plain": [
       "<Figure size 432x288 with 1 Axes>"
      ]
     },
     "metadata": {
      "needs_background": "light"
     },
     "output_type": "display_data"
    }
   ],
   "source": [
    "x = df.groupby(['race', 'income']).size().unstack(fill_value = 0)\n",
    "display(x)\n",
    "x.plot()"
   ]
  },
  {
   "cell_type": "markdown",
   "id": "5577a89a",
   "metadata": {
    "papermill": {
     "duration": 0.045822,
     "end_time": "2022-01-29T11:23:10.760883",
     "exception": false,
     "start_time": "2022-01-29T11:23:10.715061",
     "status": "completed"
    },
    "tags": []
   },
   "source": []
  },
  {
   "cell_type": "code",
   "execution_count": 14,
   "id": "53ebc850",
   "metadata": {
    "execution": {
     "iopub.execute_input": "2022-01-29T11:23:10.860455Z",
     "iopub.status.busy": "2022-01-29T11:23:10.857024Z",
     "iopub.status.idle": "2022-01-29T11:23:10.877576Z",
     "shell.execute_reply": "2022-01-29T11:23:10.878126Z",
     "shell.execute_reply.started": "2022-01-29T11:05:47.318031Z"
    },
    "papermill": {
     "duration": 0.071143,
     "end_time": "2022-01-29T11:23:10.878300",
     "exception": false,
     "start_time": "2022-01-29T11:23:10.807157",
     "status": "completed"
    },
    "tags": []
   },
   "outputs": [
    {
     "data": {
      "text/html": [
       "<div>\n",
       "<style scoped>\n",
       "    .dataframe tbody tr th:only-of-type {\n",
       "        vertical-align: middle;\n",
       "    }\n",
       "\n",
       "    .dataframe tbody tr th {\n",
       "        vertical-align: top;\n",
       "    }\n",
       "\n",
       "    .dataframe thead th {\n",
       "        text-align: right;\n",
       "    }\n",
       "</style>\n",
       "<table border=\"1\" class=\"dataframe\">\n",
       "  <thead>\n",
       "    <tr style=\"text-align: right;\">\n",
       "      <th>income</th>\n",
       "      <th>&lt;=50K</th>\n",
       "      <th>&gt;50K</th>\n",
       "    </tr>\n",
       "    <tr>\n",
       "      <th>sex</th>\n",
       "      <th></th>\n",
       "      <th></th>\n",
       "    </tr>\n",
       "  </thead>\n",
       "  <tbody>\n",
       "    <tr>\n",
       "      <th>Female</th>\n",
       "      <td>13026</td>\n",
       "      <td>1669</td>\n",
       "    </tr>\n",
       "    <tr>\n",
       "      <th>Male</th>\n",
       "      <td>20988</td>\n",
       "      <td>9539</td>\n",
       "    </tr>\n",
       "  </tbody>\n",
       "</table>\n",
       "</div>"
      ],
      "text/plain": [
       "income   <=50K  >50K\n",
       "sex                 \n",
       " Female  13026  1669\n",
       " Male    20988  9539"
      ]
     },
     "metadata": {},
     "output_type": "display_data"
    }
   ],
   "source": [
    "y = df.groupby(['sex', 'income']).size().unstack(fill_value = 0)\n",
    "\n",
    "display(y)\n",
    "\n"
   ]
  },
  {
   "cell_type": "code",
   "execution_count": 15,
   "id": "49d1c5d4",
   "metadata": {
    "execution": {
     "iopub.execute_input": "2022-01-29T11:23:10.973643Z",
     "iopub.status.busy": "2022-01-29T11:23:10.972914Z",
     "iopub.status.idle": "2022-01-29T11:23:11.018821Z",
     "shell.execute_reply": "2022-01-29T11:23:11.019330Z",
     "shell.execute_reply.started": "2022-01-29T11:05:47.339898Z"
    },
    "papermill": {
     "duration": 0.095403,
     "end_time": "2022-01-29T11:23:11.019546",
     "exception": false,
     "start_time": "2022-01-29T11:23:10.924143",
     "status": "completed"
    },
    "tags": []
   },
   "outputs": [
    {
     "data": {
      "text/html": [
       "<div>\n",
       "<style scoped>\n",
       "    .dataframe tbody tr th:only-of-type {\n",
       "        vertical-align: middle;\n",
       "    }\n",
       "\n",
       "    .dataframe tbody tr th {\n",
       "        vertical-align: top;\n",
       "    }\n",
       "\n",
       "    .dataframe thead th {\n",
       "        text-align: right;\n",
       "    }\n",
       "</style>\n",
       "<table border=\"1\" class=\"dataframe\">\n",
       "  <thead>\n",
       "    <tr style=\"text-align: right;\">\n",
       "      <th></th>\n",
       "      <th>age</th>\n",
       "      <th>workclass</th>\n",
       "      <th>education_level</th>\n",
       "      <th>education-num</th>\n",
       "      <th>marital-status</th>\n",
       "      <th>occupation</th>\n",
       "      <th>relationship</th>\n",
       "      <th>race</th>\n",
       "      <th>sex</th>\n",
       "      <th>capital-gain</th>\n",
       "      <th>capital-loss</th>\n",
       "      <th>hours-per-week</th>\n",
       "      <th>native-country</th>\n",
       "      <th>income</th>\n",
       "      <th>income_encoded</th>\n",
       "    </tr>\n",
       "  </thead>\n",
       "  <tbody>\n",
       "    <tr>\n",
       "      <th>0</th>\n",
       "      <td>39</td>\n",
       "      <td>State-gov</td>\n",
       "      <td>Bachelors</td>\n",
       "      <td>13.0</td>\n",
       "      <td>Never-married</td>\n",
       "      <td>Adm-clerical</td>\n",
       "      <td>Not-in-family</td>\n",
       "      <td>White</td>\n",
       "      <td>Male</td>\n",
       "      <td>2174.0</td>\n",
       "      <td>0.0</td>\n",
       "      <td>40.0</td>\n",
       "      <td>United-States</td>\n",
       "      <td>&lt;=50K</td>\n",
       "      <td>0</td>\n",
       "    </tr>\n",
       "    <tr>\n",
       "      <th>1</th>\n",
       "      <td>50</td>\n",
       "      <td>Self-emp-not-inc</td>\n",
       "      <td>Bachelors</td>\n",
       "      <td>13.0</td>\n",
       "      <td>Married-civ-spouse</td>\n",
       "      <td>Exec-managerial</td>\n",
       "      <td>Husband</td>\n",
       "      <td>White</td>\n",
       "      <td>Male</td>\n",
       "      <td>0.0</td>\n",
       "      <td>0.0</td>\n",
       "      <td>13.0</td>\n",
       "      <td>United-States</td>\n",
       "      <td>&lt;=50K</td>\n",
       "      <td>0</td>\n",
       "    </tr>\n",
       "    <tr>\n",
       "      <th>2</th>\n",
       "      <td>38</td>\n",
       "      <td>Private</td>\n",
       "      <td>HS-grad</td>\n",
       "      <td>9.0</td>\n",
       "      <td>Divorced</td>\n",
       "      <td>Handlers-cleaners</td>\n",
       "      <td>Not-in-family</td>\n",
       "      <td>White</td>\n",
       "      <td>Male</td>\n",
       "      <td>0.0</td>\n",
       "      <td>0.0</td>\n",
       "      <td>40.0</td>\n",
       "      <td>United-States</td>\n",
       "      <td>&lt;=50K</td>\n",
       "      <td>0</td>\n",
       "    </tr>\n",
       "    <tr>\n",
       "      <th>3</th>\n",
       "      <td>53</td>\n",
       "      <td>Private</td>\n",
       "      <td>11th</td>\n",
       "      <td>7.0</td>\n",
       "      <td>Married-civ-spouse</td>\n",
       "      <td>Handlers-cleaners</td>\n",
       "      <td>Husband</td>\n",
       "      <td>Black</td>\n",
       "      <td>Male</td>\n",
       "      <td>0.0</td>\n",
       "      <td>0.0</td>\n",
       "      <td>40.0</td>\n",
       "      <td>United-States</td>\n",
       "      <td>&lt;=50K</td>\n",
       "      <td>0</td>\n",
       "    </tr>\n",
       "    <tr>\n",
       "      <th>4</th>\n",
       "      <td>28</td>\n",
       "      <td>Private</td>\n",
       "      <td>Bachelors</td>\n",
       "      <td>13.0</td>\n",
       "      <td>Married-civ-spouse</td>\n",
       "      <td>Prof-specialty</td>\n",
       "      <td>Wife</td>\n",
       "      <td>Black</td>\n",
       "      <td>Female</td>\n",
       "      <td>0.0</td>\n",
       "      <td>0.0</td>\n",
       "      <td>40.0</td>\n",
       "      <td>Cuba</td>\n",
       "      <td>&lt;=50K</td>\n",
       "      <td>0</td>\n",
       "    </tr>\n",
       "  </tbody>\n",
       "</table>\n",
       "</div>"
      ],
      "text/plain": [
       "   age          workclass education_level  education-num       marital-status  \\\n",
       "0   39          State-gov       Bachelors           13.0        Never-married   \n",
       "1   50   Self-emp-not-inc       Bachelors           13.0   Married-civ-spouse   \n",
       "2   38            Private         HS-grad            9.0             Divorced   \n",
       "3   53            Private            11th            7.0   Married-civ-spouse   \n",
       "4   28            Private       Bachelors           13.0   Married-civ-spouse   \n",
       "\n",
       "           occupation    relationship    race      sex  capital-gain  \\\n",
       "0        Adm-clerical   Not-in-family   White     Male        2174.0   \n",
       "1     Exec-managerial         Husband   White     Male           0.0   \n",
       "2   Handlers-cleaners   Not-in-family   White     Male           0.0   \n",
       "3   Handlers-cleaners         Husband   Black     Male           0.0   \n",
       "4      Prof-specialty            Wife   Black   Female           0.0   \n",
       "\n",
       "   capital-loss  hours-per-week  native-country income  income_encoded  \n",
       "0           0.0            40.0   United-States  <=50K               0  \n",
       "1           0.0            13.0   United-States  <=50K               0  \n",
       "2           0.0            40.0   United-States  <=50K               0  \n",
       "3           0.0            40.0   United-States  <=50K               0  \n",
       "4           0.0            40.0            Cuba  <=50K               0  "
      ]
     },
     "execution_count": 15,
     "metadata": {},
     "output_type": "execute_result"
    }
   ],
   "source": [
    "df['income_encoded'] = [1 if value == ' >50K' else 0 for value in df['income'].values]\n",
    "df.head()"
   ]
  },
  {
   "cell_type": "code",
   "execution_count": 16,
   "id": "b5a81ef0",
   "metadata": {
    "execution": {
     "iopub.execute_input": "2022-01-29T11:23:11.119930Z",
     "iopub.status.busy": "2022-01-29T11:23:11.119085Z",
     "iopub.status.idle": "2022-01-29T11:23:11.548803Z",
     "shell.execute_reply": "2022-01-29T11:23:11.549401Z",
     "shell.execute_reply.started": "2022-01-29T11:05:47.386001Z"
    },
    "papermill": {
     "duration": 0.481133,
     "end_time": "2022-01-29T11:23:11.549616",
     "exception": false,
     "start_time": "2022-01-29T11:23:11.068483",
     "status": "completed"
    },
    "tags": []
   },
   "outputs": [
    {
     "data": {
      "text/plain": [
       "<AxesSubplot:ylabel='occupation'>"
      ]
     },
     "execution_count": 16,
     "metadata": {},
     "output_type": "execute_result"
    },
    {
     "data": {
      "image/png": "[encoded data removed]",
      "text/plain": [
       "<Figure size 1440x720 with 1 Axes>"
      ]
     },
     "metadata": {
      "needs_background": "light"
     },
     "output_type": "display_data"
    }
   ],
   "source": [
    "pd.crosstab(df[\"occupation\"], df['income']).plot(kind='barh', stacked=True, figsize=(20, 10))"
   ]
  },
  {
   "cell_type": "code",
   "execution_count": 17,
   "id": "d839cb5b",
   "metadata": {
    "execution": {
     "iopub.execute_input": "2022-01-29T11:23:11.651198Z",
     "iopub.status.busy": "2022-01-29T11:23:11.650520Z",
     "iopub.status.idle": "2022-01-29T11:23:11.942919Z",
     "shell.execute_reply": "2022-01-29T11:23:11.943483Z",
     "shell.execute_reply.started": "2022-01-29T11:05:47.791499Z"
    },
    "papermill": {
     "duration": 0.346056,
     "end_time": "2022-01-29T11:23:11.943670",
     "exception": false,
     "start_time": "2022-01-29T11:23:11.597614",
     "status": "completed"
    },
    "tags": []
   },
   "outputs": [
    {
     "data": {
      "text/plain": [
       "<AxesSubplot:ylabel='race'>"
      ]
     },
     "execution_count": 17,
     "metadata": {},
     "output_type": "execute_result"
    },
    {
     "data": {
      "image/png": "[encoded data removed]",
      "text/plain": [
       "<Figure size 720x360 with 1 Axes>"
      ]
     },
     "metadata": {
      "needs_background": "light"
     },
     "output_type": "display_data"
    }
   ],
   "source": [
    "pd.crosstab(df[\"race\"], df['income']).plot(kind='barh', stacked=True, figsize=(10, 5))"
   ]
  },
  {
   "cell_type": "code",
   "execution_count": 18,
   "id": "a4861971",
   "metadata": {
    "execution": {
     "iopub.execute_input": "2022-01-29T11:23:12.052649Z",
     "iopub.status.busy": "2022-01-29T11:23:12.051911Z",
     "iopub.status.idle": "2022-01-29T11:23:12.469512Z",
     "shell.execute_reply": "2022-01-29T11:23:12.469997Z",
     "shell.execute_reply.started": "2022-01-29T11:05:48.073783Z"
    },
    "papermill": {
     "duration": 0.473342,
     "end_time": "2022-01-29T11:23:12.470187",
     "exception": false,
     "start_time": "2022-01-29T11:23:11.996845",
     "status": "completed"
    },
    "tags": []
   },
   "outputs": [
    {
     "data": {
      "text/plain": [
       "<AxesSubplot:ylabel='education-num'>"
      ]
     },
     "execution_count": 18,
     "metadata": {},
     "output_type": "execute_result"
    },
    {
     "data": {
      "image/png": "[encoded data removed]",
      "text/plain": [
       "<Figure size 720x360 with 1 Axes>"
      ]
     },
     "metadata": {
      "needs_background": "light"
     },
     "output_type": "display_data"
    }
   ],
   "source": [
    "pd.crosstab(df[\"education-num\"], df['income']).plot(kind='barh', stacked=True, figsize=(10, 5))"
   ]
  },
  {
   "cell_type": "code",
   "execution_count": 19,
   "id": "511b79c8",
   "metadata": {
    "execution": {
     "iopub.execute_input": "2022-01-29T11:23:12.579780Z",
     "iopub.status.busy": "2022-01-29T11:23:12.578939Z",
     "iopub.status.idle": "2022-01-29T11:23:12.604534Z",
     "shell.execute_reply": "2022-01-29T11:23:12.605104Z",
     "shell.execute_reply.started": "2022-01-29T11:05:48.451656Z"
    },
    "papermill": {
     "duration": 0.082929,
     "end_time": "2022-01-29T11:23:12.605279",
     "exception": false,
     "start_time": "2022-01-29T11:23:12.522350",
     "status": "completed"
    },
    "tags": []
   },
   "outputs": [
    {
     "data": {
      "text/html": [
       "<div>\n",
       "<style scoped>\n",
       "    .dataframe tbody tr th:only-of-type {\n",
       "        vertical-align: middle;\n",
       "    }\n",
       "\n",
       "    .dataframe tbody tr th {\n",
       "        vertical-align: top;\n",
       "    }\n",
       "\n",
       "    .dataframe thead th {\n",
       "        text-align: right;\n",
       "    }\n",
       "</style>\n",
       "<table border=\"1\" class=\"dataframe\">\n",
       "  <thead>\n",
       "    <tr style=\"text-align: right;\">\n",
       "      <th></th>\n",
       "      <th></th>\n",
       "      <th>race</th>\n",
       "    </tr>\n",
       "    <tr>\n",
       "      <th>sex</th>\n",
       "      <th>income</th>\n",
       "      <th></th>\n",
       "    </tr>\n",
       "  </thead>\n",
       "  <tbody>\n",
       "    <tr>\n",
       "      <th rowspan=\"2\" valign=\"top\">Female</th>\n",
       "      <th>&lt;=50K</th>\n",
       "      <td>13026</td>\n",
       "    </tr>\n",
       "    <tr>\n",
       "      <th>&gt;50K</th>\n",
       "      <td>1669</td>\n",
       "    </tr>\n",
       "    <tr>\n",
       "      <th rowspan=\"2\" valign=\"top\">Male</th>\n",
       "      <th>&lt;=50K</th>\n",
       "      <td>20988</td>\n",
       "    </tr>\n",
       "    <tr>\n",
       "      <th>&gt;50K</th>\n",
       "      <td>9539</td>\n",
       "    </tr>\n",
       "  </tbody>\n",
       "</table>\n",
       "</div>"
      ],
      "text/plain": [
       "                 race\n",
       "sex     income       \n",
       " Female <=50K   13026\n",
       "        >50K     1669\n",
       " Male   <=50K   20988\n",
       "        >50K     9539"
      ]
     },
     "execution_count": 19,
     "metadata": {},
     "output_type": "execute_result"
    }
   ],
   "source": [
    "y = df.groupby(['sex', 'income']).agg({'race': 'count'})\n",
    "y"
   ]
  },
  {
   "cell_type": "markdown",
   "id": "9f319d62",
   "metadata": {
    "papermill": {
     "duration": 0.054075,
     "end_time": "2022-01-29T11:23:12.711215",
     "exception": false,
     "start_time": "2022-01-29T11:23:12.657140",
     "status": "completed"
    },
    "tags": []
   },
   "source": [
    "### Conclusion\n",
    "the data are very unevenly distributed. Most of the people in the dataset are white and male. </br> \n",
    "furthermore the income is also very unevely distributed. </br>\n",
    "for example the white male people earn more than 50 in 31.24 pct of the cases, but women only 11.35 pct\n",
    "furthermore you can see that as higher the education is as more likely the person earns more than 50k. \n"
   ]
  },
  {
   "cell_type": "code",
   "execution_count": 20,
   "id": "8a7371f5",
   "metadata": {
    "execution": {
     "iopub.execute_input": "2022-01-29T11:23:12.819255Z",
     "iopub.status.busy": "2022-01-29T11:23:12.818474Z",
     "iopub.status.idle": "2022-01-29T11:23:12.848725Z",
     "shell.execute_reply": "2022-01-29T11:23:12.849502Z",
     "shell.execute_reply.started": "2022-01-29T11:05:48.479825Z"
    },
    "papermill": {
     "duration": 0.086298,
     "end_time": "2022-01-29T11:23:12.849745",
     "exception": false,
     "start_time": "2022-01-29T11:23:12.763447",
     "status": "completed"
    },
    "tags": []
   },
   "outputs": [
    {
     "name": "stdout",
     "output_type": "stream",
     "text": [
      "Total number of records: 45222\n",
      "Individuals making more than $50,000: 11208\n",
      "Individuals making at most $50,000: 34014\n",
      "Percentage of individuals making more than $50,000: 24.78439697492371%\n"
     ]
    }
   ],
   "source": [
    "# TODO: Total number of records\n",
    "n_records = len(df)\n",
    "\n",
    "# TODO: Number of records where individual's income is more than $50,000\n",
    "n_greater_50k = len(df[df['income'] == '>50K'])\n",
    "\n",
    "# TODO: Number of records where individual's income is at most $50,000\n",
    "n_at_most_50k = len(df[df['income'] == '<=50K'])\n",
    "\n",
    "# TODO: Percentage of individuals whose income is more than $50,000\n",
    "greater_percent = (100/n_records)*n_greater_50k\n",
    "\n",
    "# Print the results\n",
    "print(\"Total number of records: {}\".format(n_records))\n",
    "print(\"Individuals making more than $50,000: {}\".format(n_greater_50k))\n",
    "print(\"Individuals making at most $50,000: {}\".format(n_at_most_50k))\n",
    "print(\"Percentage of individuals making more than $50,000: {}%\".format(greater_percent))"
   ]
  },
  {
   "cell_type": "markdown",
   "id": "1b85ee1a",
   "metadata": {
    "papermill": {
     "duration": 0.052559,
     "end_time": "2022-01-29T11:23:12.955208",
     "exception": false,
     "start_time": "2022-01-29T11:23:12.902649",
     "status": "completed"
    },
    "tags": []
   },
   "source": [
    "## 2 Normalizing Numerical Features"
   ]
  },
  {
   "cell_type": "code",
   "execution_count": 21,
   "id": "87c7364b",
   "metadata": {
    "execution": {
     "iopub.execute_input": "2022-01-29T11:23:13.063386Z",
     "iopub.status.busy": "2022-01-29T11:23:13.062723Z",
     "iopub.status.idle": "2022-01-29T11:23:13.080780Z",
     "shell.execute_reply": "2022-01-29T11:23:13.081311Z",
     "shell.execute_reply.started": "2022-01-29T11:05:48.510861Z"
    },
    "papermill": {
     "duration": 0.073593,
     "end_time": "2022-01-29T11:23:13.081511",
     "exception": false,
     "start_time": "2022-01-29T11:23:13.007918",
     "status": "completed"
    },
    "tags": []
   },
   "outputs": [
    {
     "name": "stdout",
     "output_type": "stream",
     "text": [
      "0    <=50K\n",
      "1    <=50K\n",
      "2    <=50K\n",
      "3    <=50K\n",
      "4    <=50K\n",
      "Name: income, dtype: object\n",
      "   age          workclass education_level  education-num       marital-status  \\\n",
      "0   39          State-gov       Bachelors           13.0        Never-married   \n",
      "1   50   Self-emp-not-inc       Bachelors           13.0   Married-civ-spouse   \n",
      "2   38            Private         HS-grad            9.0             Divorced   \n",
      "3   53            Private            11th            7.0   Married-civ-spouse   \n",
      "4   28            Private       Bachelors           13.0   Married-civ-spouse   \n",
      "\n",
      "           occupation    relationship    race      sex  capital-gain  \\\n",
      "0        Adm-clerical   Not-in-family   White     Male        2174.0   \n",
      "1     Exec-managerial         Husband   White     Male           0.0   \n",
      "2   Handlers-cleaners   Not-in-family   White     Male           0.0   \n",
      "3   Handlers-cleaners         Husband   Black     Male           0.0   \n",
      "4      Prof-specialty            Wife   Black   Female           0.0   \n",
      "\n",
      "   capital-loss  hours-per-week  native-country  income_encoded  \n",
      "0           0.0            40.0   United-States               0  \n",
      "1           0.0            13.0   United-States               0  \n",
      "2           0.0            40.0   United-States               0  \n",
      "3           0.0            40.0   United-States               0  \n",
      "4           0.0            40.0            Cuba               0  \n"
     ]
    }
   ],
   "source": [
    "# Split the data into features and target label\n",
    "#target label\n",
    "\n",
    "income_raw = df['income']\n",
    "print(income_raw.head())\n",
    "\n",
    "#feature label\n",
    "features_raw = df.drop('income', axis = 1)\n",
    "print(features_raw.head())\n"
   ]
  },
  {
   "attachments": {
    "057d58cb-3226-4062-bdc4-9e28d9d07e66.png": {
     "image/png": "[encoded data removed]"
    }
   },
   "cell_type": "markdown",
   "id": "8e50ebd1",
   "metadata": {
    "papermill": {
     "duration": 0.051886,
     "end_time": "2022-01-29T11:23:13.186518",
     "exception": false,
     "start_time": "2022-01-29T11:23:13.134632",
     "status": "completed"
    },
    "tags": []
   },
   "source": [
    "### 2.1 Skewed Data\n",
    "As to see our data for the capital loss and capital gain is really skewed. But why does this matter? Let´s remember what a normal distribution is: </br>\n",
    "![image.png](attachment:057d58cb-3226-4062-bdc4-9e28d9d07e66.png) </br>\n",
    "As our data does not fit to the normal bell curve we may get a problem with our statistical results and with our ML learning model. So we must change this. One method is the logarithm transformation, as this will transform our data to a more normal curve. </br>\n",
    "\n",
    "https://www.simplypsychology.org/normal-distribution.jpg\n",
    "https://medium.com/@kyawsawhtoon/log-transformation-purpose-and-interpretation-9444b4b049c9"
   ]
  },
  {
   "cell_type": "code",
   "execution_count": 22,
   "id": "37d82b96",
   "metadata": {
    "execution": {
     "iopub.execute_input": "2022-01-29T11:23:13.298825Z",
     "iopub.status.busy": "2022-01-29T11:23:13.296627Z",
     "iopub.status.idle": "2022-01-29T11:23:13.641561Z",
     "shell.execute_reply": "2022-01-29T11:23:13.641031Z",
     "shell.execute_reply.started": "2022-01-29T11:05:48.528207Z"
    },
    "papermill": {
     "duration": 0.40182,
     "end_time": "2022-01-29T11:23:13.641706",
     "exception": false,
     "start_time": "2022-01-29T11:23:13.239886",
     "status": "completed"
    },
    "tags": []
   },
   "outputs": [
    {
     "name": "stdout",
     "output_type": "stream",
     "text": [
      " skew for capital loss 4.516304152981587\n"
     ]
    },
    {
     "data": {
      "text/plain": [
       "(array([4.3094e+04, 2.3000e+01, 2.8000e+01, 6.3900e+02, 1.1250e+03,\n",
       "        2.8400e+02, 1.8000e+01, 2.0000e+00, 8.0000e+00, 1.0000e+00]),\n",
       " array([   0. ,  435.6,  871.2, 1306.8, 1742.4, 2178. , 2613.6, 3049.2,\n",
       "        3484.8, 3920.4, 4356. ]),\n",
       " <BarContainer object of 10 artists>)"
      ]
     },
     "execution_count": 22,
     "metadata": {},
     "output_type": "execute_result"
    },
    {
     "data": {
      "image/png": "[encoded data removed]",
      "text/plain": [
       "<Figure size 432x288 with 1 Axes>"
      ]
     },
     "metadata": {
      "needs_background": "light"
     },
     "output_type": "display_data"
    }
   ],
   "source": [
    "print (f' skew for capital loss {df[\"capital-loss\"].skew()}')\n",
    "plt.hist(df['capital-loss'], color = 'green', edgecolor = 'black')\n"
   ]
  },
  {
   "cell_type": "code",
   "execution_count": 23,
   "id": "085a995a",
   "metadata": {
    "execution": {
     "iopub.execute_input": "2022-01-29T11:23:13.771842Z",
     "iopub.status.busy": "2022-01-29T11:23:13.771087Z",
     "iopub.status.idle": "2022-01-29T11:23:13.970289Z",
     "shell.execute_reply": "2022-01-29T11:23:13.970781Z",
     "shell.execute_reply.started": "2022-01-29T11:05:48.731439Z"
    },
    "papermill": {
     "duration": 0.275005,
     "end_time": "2022-01-29T11:23:13.970959",
     "exception": false,
     "start_time": "2022-01-29T11:23:13.695954",
     "status": "completed"
    },
    "tags": []
   },
   "outputs": [
    {
     "name": "stdout",
     "output_type": "stream",
     "text": [
      " skew for capital gain 11.789002180291192\n"
     ]
    },
    {
     "data": {
      "image/png": "[encoded data removed]",
      "text/plain": [
       "<Figure size 432x288 with 1 Axes>"
      ]
     },
     "metadata": {
      "needs_background": "light"
     },
     "output_type": "display_data"
    }
   ],
   "source": [
    "plt.hist(df['capital-gain'], color = 'green', edgecolor = 'black')\n",
    "print (f' skew for capital gain {df[\"capital-gain\"].skew()}')"
   ]
  },
  {
   "cell_type": "code",
   "execution_count": 24,
   "id": "05bd0d96",
   "metadata": {
    "execution": {
     "iopub.execute_input": "2022-01-29T11:23:14.092120Z",
     "iopub.status.busy": "2022-01-29T11:23:14.091400Z",
     "iopub.status.idle": "2022-01-29T11:23:14.098036Z",
     "shell.execute_reply": "2022-01-29T11:23:14.097343Z",
     "shell.execute_reply.started": "2022-01-29T11:08:37.224673Z"
    },
    "papermill": {
     "duration": 0.070778,
     "end_time": "2022-01-29T11:23:14.098174",
     "exception": false,
     "start_time": "2022-01-29T11:23:14.027396",
     "status": "completed"
    },
    "tags": []
   },
   "outputs": [],
   "source": [
    "# Log-transform the skewed features\n",
    "#we know that this two columns are highly skewed. \n",
    "skewed = ['capital-gain', 'capital-loss']\n",
    "features_log_transformed = pd.DataFrame(data = features_raw)\n",
    "features_log_transformed[skewed] = features_raw[skewed].apply(lambda x: np.log(x + 1))\n",
    "\n"
   ]
  },
  {
   "cell_type": "markdown",
   "id": "f758166b",
   "metadata": {
    "papermill": {
     "duration": 0.053171,
     "end_time": "2022-01-29T11:23:14.205221",
     "exception": false,
     "start_time": "2022-01-29T11:23:14.152050",
     "status": "completed"
    },
    "tags": []
   },
   "source": [
    "### 2.2 The Scale of Your Data Matters\n",
    "Machine learning models learn a mapping from input variables to an output variable.\n",
    "\n",
    "As such, the scale and distribution of the data drawn from the domain may be different for each variable.\n",
    "\n",
    "Input variables may have different units (e.g. feet, kilometers, and hours) that, in turn, may mean the variables have different scales.\n",
    "\n",
    "Differences in the scales across input variables may increase the difficulty of the problem being modeled. An example of this is that large input values (e.g. a spread of hundreds or thousands of units) can result in a model that learns large weight values. A model with large weight values is often unstable, meaning that it may suffer from poor performance during learning and sensitivity to input values resulting in higher generalization error.\n",
    "\n",
    "Min-max scaling is a common feature pre-processing technique which results in scaled data values that fall in the range [0,1]. When applied to a Python sequence, such as a Pandas Series, scaling results in a new sequence such that 0 is the minimum value and 1 is the maximum value of the prior unscaled sequence. If the sequence is [1, 2, 3], then the scaled sequence is [0, 0.5, 1].\n",
    "\n",
    "\n",
    "https://machinelearningmastery.com/standardscaler-and-minmaxscaler-transforms-in-python/ </br>\n",
    "https://www.kite.com/python/answers/how-to-scale-pandas-dataframe-columns-with-the-scikit-learn-minmaxscaler-in-python\n"
   ]
  },
  {
   "cell_type": "code",
   "execution_count": 25,
   "id": "22be5aa2",
   "metadata": {
    "execution": {
     "iopub.execute_input": "2022-01-29T11:23:14.322466Z",
     "iopub.status.busy": "2022-01-29T11:23:14.321758Z",
     "iopub.status.idle": "2022-01-29T11:23:14.348164Z",
     "shell.execute_reply": "2022-01-29T11:23:14.347483Z",
     "shell.execute_reply.started": "2022-01-29T11:05:49.124770Z"
    },
    "papermill": {
     "duration": 0.089318,
     "end_time": "2022-01-29T11:23:14.348302",
     "exception": false,
     "start_time": "2022-01-29T11:23:14.258984",
     "status": "completed"
    },
    "tags": []
   },
   "outputs": [
    {
     "data": {
      "text/html": [
       "<div>\n",
       "<style scoped>\n",
       "    .dataframe tbody tr th:only-of-type {\n",
       "        vertical-align: middle;\n",
       "    }\n",
       "\n",
       "    .dataframe tbody tr th {\n",
       "        vertical-align: top;\n",
       "    }\n",
       "\n",
       "    .dataframe thead th {\n",
       "        text-align: right;\n",
       "    }\n",
       "</style>\n",
       "<table border=\"1\" class=\"dataframe\">\n",
       "  <thead>\n",
       "    <tr style=\"text-align: right;\">\n",
       "      <th></th>\n",
       "      <th>age</th>\n",
       "      <th>workclass</th>\n",
       "      <th>education_level</th>\n",
       "      <th>education-num</th>\n",
       "      <th>marital-status</th>\n",
       "      <th>occupation</th>\n",
       "      <th>relationship</th>\n",
       "      <th>race</th>\n",
       "      <th>sex</th>\n",
       "      <th>capital-gain</th>\n",
       "      <th>capital-loss</th>\n",
       "      <th>hours-per-week</th>\n",
       "      <th>native-country</th>\n",
       "      <th>income_encoded</th>\n",
       "    </tr>\n",
       "  </thead>\n",
       "  <tbody>\n",
       "    <tr>\n",
       "      <th>0</th>\n",
       "      <td>0.301370</td>\n",
       "      <td>State-gov</td>\n",
       "      <td>Bachelors</td>\n",
       "      <td>0.800000</td>\n",
       "      <td>Never-married</td>\n",
       "      <td>Adm-clerical</td>\n",
       "      <td>Not-in-family</td>\n",
       "      <td>White</td>\n",
       "      <td>Male</td>\n",
       "      <td>0.667492</td>\n",
       "      <td>0.0</td>\n",
       "      <td>0.397959</td>\n",
       "      <td>United-States</td>\n",
       "      <td>0</td>\n",
       "    </tr>\n",
       "    <tr>\n",
       "      <th>1</th>\n",
       "      <td>0.452055</td>\n",
       "      <td>Self-emp-not-inc</td>\n",
       "      <td>Bachelors</td>\n",
       "      <td>0.800000</td>\n",
       "      <td>Married-civ-spouse</td>\n",
       "      <td>Exec-managerial</td>\n",
       "      <td>Husband</td>\n",
       "      <td>White</td>\n",
       "      <td>Male</td>\n",
       "      <td>0.000000</td>\n",
       "      <td>0.0</td>\n",
       "      <td>0.122449</td>\n",
       "      <td>United-States</td>\n",
       "      <td>0</td>\n",
       "    </tr>\n",
       "    <tr>\n",
       "      <th>2</th>\n",
       "      <td>0.287671</td>\n",
       "      <td>Private</td>\n",
       "      <td>HS-grad</td>\n",
       "      <td>0.533333</td>\n",
       "      <td>Divorced</td>\n",
       "      <td>Handlers-cleaners</td>\n",
       "      <td>Not-in-family</td>\n",
       "      <td>White</td>\n",
       "      <td>Male</td>\n",
       "      <td>0.000000</td>\n",
       "      <td>0.0</td>\n",
       "      <td>0.397959</td>\n",
       "      <td>United-States</td>\n",
       "      <td>0</td>\n",
       "    </tr>\n",
       "    <tr>\n",
       "      <th>3</th>\n",
       "      <td>0.493151</td>\n",
       "      <td>Private</td>\n",
       "      <td>11th</td>\n",
       "      <td>0.400000</td>\n",
       "      <td>Married-civ-spouse</td>\n",
       "      <td>Handlers-cleaners</td>\n",
       "      <td>Husband</td>\n",
       "      <td>Black</td>\n",
       "      <td>Male</td>\n",
       "      <td>0.000000</td>\n",
       "      <td>0.0</td>\n",
       "      <td>0.397959</td>\n",
       "      <td>United-States</td>\n",
       "      <td>0</td>\n",
       "    </tr>\n",
       "    <tr>\n",
       "      <th>4</th>\n",
       "      <td>0.150685</td>\n",
       "      <td>Private</td>\n",
       "      <td>Bachelors</td>\n",
       "      <td>0.800000</td>\n",
       "      <td>Married-civ-spouse</td>\n",
       "      <td>Prof-specialty</td>\n",
       "      <td>Wife</td>\n",
       "      <td>Black</td>\n",
       "      <td>Female</td>\n",
       "      <td>0.000000</td>\n",
       "      <td>0.0</td>\n",
       "      <td>0.397959</td>\n",
       "      <td>Cuba</td>\n",
       "      <td>0</td>\n",
       "    </tr>\n",
       "  </tbody>\n",
       "</table>\n",
       "</div>"
      ],
      "text/plain": [
       "        age          workclass education_level  education-num  \\\n",
       "0  0.301370          State-gov       Bachelors       0.800000   \n",
       "1  0.452055   Self-emp-not-inc       Bachelors       0.800000   \n",
       "2  0.287671            Private         HS-grad       0.533333   \n",
       "3  0.493151            Private            11th       0.400000   \n",
       "4  0.150685            Private       Bachelors       0.800000   \n",
       "\n",
       "        marital-status          occupation    relationship    race      sex  \\\n",
       "0        Never-married        Adm-clerical   Not-in-family   White     Male   \n",
       "1   Married-civ-spouse     Exec-managerial         Husband   White     Male   \n",
       "2             Divorced   Handlers-cleaners   Not-in-family   White     Male   \n",
       "3   Married-civ-spouse   Handlers-cleaners         Husband   Black     Male   \n",
       "4   Married-civ-spouse      Prof-specialty            Wife   Black   Female   \n",
       "\n",
       "   capital-gain  capital-loss  hours-per-week  native-country  income_encoded  \n",
       "0      0.667492           0.0        0.397959   United-States               0  \n",
       "1      0.000000           0.0        0.122449   United-States               0  \n",
       "2      0.000000           0.0        0.397959   United-States               0  \n",
       "3      0.000000           0.0        0.397959   United-States               0  \n",
       "4      0.000000           0.0        0.397959            Cuba               0  "
      ]
     },
     "metadata": {},
     "output_type": "display_data"
    }
   ],
   "source": [
    "# Import sklearn.preprocessing.StandardScaler\n",
    "from sklearn.preprocessing import MinMaxScaler\n",
    "\n",
    "# Initialize a scaler, then apply it to the features\n",
    "scaler = MinMaxScaler() # default=(0, 1)\n",
    "numerical = ['age', 'education-num', 'capital-gain', 'capital-loss', 'hours-per-week']\n",
    "\n",
    "features_log_minmax_transform = pd.DataFrame(data = features_log_transformed)\n",
    "features_log_minmax_transform[numerical] = scaler.fit_transform(features_log_transformed[numerical])\n",
    "\n",
    "# Show an example of a record with scaling applied\n",
    "display(features_log_minmax_transform.head(n = 5))"
   ]
  },
  {
   "cell_type": "markdown",
   "id": "edb4751a",
   "metadata": {
    "papermill": {
     "duration": 0.054806,
     "end_time": "2022-01-29T11:23:14.458263",
     "exception": false,
     "start_time": "2022-01-29T11:23:14.403457",
     "status": "completed"
    },
    "tags": []
   },
   "source": [
    "## 3 Data preprocessing\n",
    "Our machine learning algorithm can not work with categorical features, we need always numerical data. We got two possibilities to arrange that. One is called Label Encoder and the second is called One-Hot-Encoding. The first one gives all our data a number starting from one, two, and so on. But this means we would have some rank in our machine learning algorithm. Because the number one would rank higher than the number two. This can cause a problem. </br>\n",
    "The second option is that we give all our categorical data a figure between 0 and 1. In the easiest case, we got only two options. For example, we got married and unmarried. Married would get 0 and unmarried would get 0. But if we take divorced also in our data we got already for married 0,0,1 and for unmarried 0,1,0 and for divorced 1,0,0. As you can see this get´s fast a bit confusing. \n",
    "In our case we choose One-Hot-encoding. "
   ]
  },
  {
   "cell_type": "code",
   "execution_count": 26,
   "id": "208a9cf8",
   "metadata": {
    "execution": {
     "iopub.execute_input": "2022-01-29T11:23:14.578220Z",
     "iopub.status.busy": "2022-01-29T11:23:14.577459Z",
     "iopub.status.idle": "2022-01-29T11:23:14.679301Z",
     "shell.execute_reply": "2022-01-29T11:23:14.678736Z",
     "shell.execute_reply.started": "2022-01-29T11:05:49.161206Z"
    },
    "papermill": {
     "duration": 0.163765,
     "end_time": "2022-01-29T11:23:14.679455",
     "exception": false,
     "start_time": "2022-01-29T11:23:14.515690",
     "status": "completed"
    },
    "tags": []
   },
   "outputs": [
    {
     "name": "stdout",
     "output_type": "stream",
     "text": [
      "104 total features after one-hot encoding.\n",
      "['age', 'education-num', 'capital-gain', 'capital-loss', 'hours-per-week', 'income_encoded', 'workclass_ Federal-gov', 'workclass_ Local-gov', 'workclass_ Private', 'workclass_ Self-emp-inc', 'workclass_ Self-emp-not-inc', 'workclass_ State-gov', 'workclass_ Without-pay', 'education_level_ 10th', 'education_level_ 11th', 'education_level_ 12th', 'education_level_ 1st-4th', 'education_level_ 5th-6th', 'education_level_ 7th-8th', 'education_level_ 9th', 'education_level_ Assoc-acdm', 'education_level_ Assoc-voc', 'education_level_ Bachelors', 'education_level_ Doctorate', 'education_level_ HS-grad', 'education_level_ Masters', 'education_level_ Preschool', 'education_level_ Prof-school', 'education_level_ Some-college', 'marital-status_ Divorced', 'marital-status_ Married-AF-spouse', 'marital-status_ Married-civ-spouse', 'marital-status_ Married-spouse-absent', 'marital-status_ Never-married', 'marital-status_ Separated', 'marital-status_ Widowed', 'occupation_ Adm-clerical', 'occupation_ Armed-Forces', 'occupation_ Craft-repair', 'occupation_ Exec-managerial', 'occupation_ Farming-fishing', 'occupation_ Handlers-cleaners', 'occupation_ Machine-op-inspct', 'occupation_ Other-service', 'occupation_ Priv-house-serv', 'occupation_ Prof-specialty', 'occupation_ Protective-serv', 'occupation_ Sales', 'occupation_ Tech-support', 'occupation_ Transport-moving', 'relationship_ Husband', 'relationship_ Not-in-family', 'relationship_ Other-relative', 'relationship_ Own-child', 'relationship_ Unmarried', 'relationship_ Wife', 'race_ Amer-Indian-Eskimo', 'race_ Asian-Pac-Islander', 'race_ Black', 'race_ Other', 'race_ White', 'sex_ Female', 'sex_ Male', 'native-country_ Cambodia', 'native-country_ Canada', 'native-country_ China', 'native-country_ Columbia', 'native-country_ Cuba', 'native-country_ Dominican-Republic', 'native-country_ Ecuador', 'native-country_ El-Salvador', 'native-country_ England', 'native-country_ France', 'native-country_ Germany', 'native-country_ Greece', 'native-country_ Guatemala', 'native-country_ Haiti', 'native-country_ Holand-Netherlands', 'native-country_ Honduras', 'native-country_ Hong', 'native-country_ Hungary', 'native-country_ India', 'native-country_ Iran', 'native-country_ Ireland', 'native-country_ Italy', 'native-country_ Jamaica', 'native-country_ Japan', 'native-country_ Laos', 'native-country_ Mexico', 'native-country_ Nicaragua', 'native-country_ Outlying-US(Guam-USVI-etc)', 'native-country_ Peru', 'native-country_ Philippines', 'native-country_ Poland', 'native-country_ Portugal', 'native-country_ Puerto-Rico', 'native-country_ Scotland', 'native-country_ South', 'native-country_ Taiwan', 'native-country_ Thailand', 'native-country_ Trinadad&Tobago', 'native-country_ United-States', 'native-country_ Vietnam', 'native-country_ Yugoslavia']\n"
     ]
    }
   ],
   "source": [
    "# TODO: One-hot encode the 'features_log_minmax_transform' data using pandas.get_dummies()\n",
    "features_final = pd.get_dummies(features_log_minmax_transform)\n",
    "\n",
    "\n",
    "# TODO: Encode the 'income_raw' data to numerical values\n",
    "income = income_raw.apply(lambda x: 0 if x == '<=50K' else 1)\n",
    "\n",
    "# Print the number of features after one-hot encoding\n",
    "encoded = list(features_final.columns)\n",
    "print(\"{} total features after one-hot encoding.\".format(len(encoded)))\n",
    "\n",
    "# Uncomment the following line to see the encoded feature names\n",
    "print(encoded)"
   ]
  },
  {
   "attachments": {
    "41ffff8a-b16e-4c31-a907-883651e40ce5.png": {
     "image/png": "[encoded data removed]"
    }
   },
   "cell_type": "markdown",
   "id": "f52f8a51",
   "metadata": {
    "execution": {
     "iopub.execute_input": "2022-01-26T18:05:30.322016Z",
     "iopub.status.busy": "2022-01-26T18:05:30.321684Z",
     "iopub.status.idle": "2022-01-26T18:05:30.330562Z",
     "shell.execute_reply": "2022-01-26T18:05:30.329184Z",
     "shell.execute_reply.started": "2022-01-26T18:05:30.321984Z"
    },
    "papermill": {
     "duration": 0.054243,
     "end_time": "2022-01-29T11:23:14.788986",
     "exception": false,
     "start_time": "2022-01-29T11:23:14.734743",
     "status": "completed"
    },
    "tags": []
   },
   "source": [
    "## 4 Shuffle and Split Data\n",
    "Now all _categorical variables_ have been converted into numerical features, and all numerical features have been normalized. As always, we will now split the data (both features and their labels) into training and test sets. 80% of the data will be used for training and 20% for testing. But why?\n",
    "Normally two problems can occur during our ML training session. Overfitting occurs when the data fits perfect to the model, but when we got new data the algorithm fails. In such a case we got a low bias but a high variance. This can happen because we got not enough data or a lot of noisy data. On the other hand underfitting can also occur. In such a case we got a high bias and also a high variance. Often this happens when the model is not complex enough for our data. \n",
    "To find out if the model overfits or underfits we split the data into a training set and a test set. \n",
    "\n",
    "![![Screenshot 2022-01-26 191941.png](attachment:41ffff8a-b16e-4c31-a907-883651e40ce5.png)\n",
    "\n",
    "https://medium.com/greyatom/what-is-underfitting-and-overfitting-in-machine-learning-and-how-to-deal-with-it-6803a989c76"
   ]
  },
  {
   "cell_type": "code",
   "execution_count": 27,
   "id": "9cb1f88d",
   "metadata": {
    "execution": {
     "iopub.execute_input": "2022-01-29T11:23:14.916016Z",
     "iopub.status.busy": "2022-01-29T11:23:14.911234Z",
     "iopub.status.idle": "2022-01-29T11:23:14.953530Z",
     "shell.execute_reply": "2022-01-29T11:23:14.954717Z",
     "shell.execute_reply.started": "2022-01-29T11:05:49.258306Z"
    },
    "papermill": {
     "duration": 0.11019,
     "end_time": "2022-01-29T11:23:14.954931",
     "exception": false,
     "start_time": "2022-01-29T11:23:14.844741",
     "status": "completed"
    },
    "tags": []
   },
   "outputs": [
    {
     "name": "stdout",
     "output_type": "stream",
     "text": [
      "Training set has 36177 samples.\n",
      "Testing set has 9045 samples.\n"
     ]
    }
   ],
   "source": [
    "# Import train_test_split\n",
    "from sklearn.model_selection import train_test_split\n",
    "\n",
    "# Split the 'features' and 'income' data into training and testing sets\n",
    "X_train, X_test, y_train, y_test = train_test_split(features_final, \n",
    "                                                    income, \n",
    "                                                    test_size = 0.2, \n",
    "                                                    random_state = 0)\n",
    "\n",
    "# Show the results of the split\n",
    "print(\"Training set has {} samples.\".format(X_train.shape[0]))\n",
    "print(\"Testing set has {} samples.\".format(X_test.shape[0]))"
   ]
  },
  {
   "cell_type": "markdown",
   "id": "b6c82323",
   "metadata": {
    "papermill": {
     "duration": 0.054864,
     "end_time": "2022-01-29T11:23:15.076875",
     "exception": false,
     "start_time": "2022-01-29T11:23:15.022011",
     "status": "completed"
    },
    "tags": []
   },
   "source": [
    "\n",
    "##  5 Evaluating Model Performance\n",
    "In this section, we will investigate four different algorithms, and determine which is best at modeling the data. Three of these algorithms will be supervised learners of your choice, and the fourth algorithm is known as a *naive predictor*."
   ]
  },
  {
   "cell_type": "markdown",
   "id": "4a488e76",
   "metadata": {
    "papermill": {
     "duration": 0.057186,
     "end_time": "2022-01-29T11:23:15.189039",
     "exception": false,
     "start_time": "2022-01-29T11:23:15.131853",
     "status": "completed"
    },
    "tags": []
   },
   "source": [
    "### Metrics and the Naive Predictor\n",
    "*CharityML*, equipped with their research, knows individuals that make more than \\$50,000 are most likely to donate to their charity. Because of this, *CharityML* is particularly interested in predicting who makes more than \\$50,000 accurately. It would seem that using **accuracy** as a metric for evaluating a particular model's performace would be appropriate. Additionally, identifying someone that *does not* make more than \\$50,000 as someone who does would be detrimental to *CharityML*, since they are looking to find individuals willing to donate. Therefore, a model's ability to precisely predict those that make more than \\$50,000 is *more important* than the model's ability to **recall** those individuals. We can use **F-beta score** as a metric that considers both precision and recall:\n",
    "\n",
    "$$ F_{\\beta} = (1 + \\beta^2) \\cdot \\frac{precision \\cdot recall}{\\left( \\beta^2 \\cdot precision \\right) + recall} $$\n",
    "\n",
    "In particular, when $\\beta = 0.5$, more emphasis is placed on precision. This is called the **F$_{0.5}$ score** (or F-score for simplicity).\n",
    "\n",
    "Looking at the distribution of classes (those who make at most \\$50,000, and those who make more), it's clear most individuals do not make more than \\$50,000. This can greatly affect **accuracy**, since we could simply say *\"this person does not make more than \\$50,000\"* and generally be right, without ever looking at the data! Making such a statement would be called **naive**, since we have not considered any information to substantiate the claim. It is always important to consider the *naive prediction* for your data, to help establish a benchmark for whether a model is performing well. That been said, using that prediction would be pointless: If we predicted all people made less than \\$50,000, *CharityML* would identify no one as donors. \n",
    "\n",
    "\n",
    "#### Note: Recap of accuracy, precision, recall\n",
    "\n",
    "** Accuracy ** measures how often the classifier makes the correct prediction. It’s the ratio of the number of correct predictions to the total number of predictions (the number of test data points).\n",
    "\n",
    "** Precision ** tells us what proportion of messages we classified as spam, actually were spam.\n",
    "It is a ratio of true positives(words classified as spam, and which are actually spam) to all positives(all words classified as spam, irrespective of whether that was the correct classificatio), in other words it is the ratio of\n",
    "\n",
    "`[True Positives/(True Positives + False Positives)]`\n",
    "\n",
    "** Recall(sensitivity)** tells us what proportion of messages that actually were spam were classified by us as spam.\n",
    "It is a ratio of true positives(words classified as spam, and which are actually spam) to all the words that were actually spam, in other words it is the ratio of\n",
    "\n",
    "`[True Positives/(True Positives + False Negatives)]`\n",
    "\n",
    "For classification problems that are skewed in their classification distributions like in our case, for example if we had a 100 text messages and only 2 were spam and the rest 98 weren't, accuracy by itself is not a very good metric. We could classify 90 messages as not spam(including the 2 that were spam but we classify them as not spam, hence they would be false negatives) and 10 as spam(all 10 false positives) and still get a reasonably good accuracy score. For such cases, precision and recall come in very handy. These two metrics can be combined to get the F1 score, which is weighted average(harmonic mean) of the precision and recall scores. This score can range from 0 to 1, with 1 being the best possible F1 score(we take the harmonic mean as we are dealing with ratios)."
   ]
  },
  {
   "cell_type": "markdown",
   "id": "40f9115c",
   "metadata": {
    "papermill": {
     "duration": 0.054517,
     "end_time": "2022-01-29T11:23:15.298599",
     "exception": false,
     "start_time": "2022-01-29T11:23:15.244082",
     "status": "completed"
    },
    "tags": []
   },
   "source": [
    "### Precision and Recall\n",
    "when we would like to have a high recall value? In the medicine branch if would be very important to have less false negative as possible. Because we don´t want to tell a ill person, that he is healthy. when we would like to have a high precisio value? When we clarify a spam as not spam we can live with that. On the other hand it would be not okay to clarify a very important message as spam. This means we would like to have a low value for false positive. "
   ]
  },
  {
   "cell_type": "markdown",
   "id": "ad3795a2",
   "metadata": {
    "papermill": {
     "duration": 0.054393,
     "end_time": "2022-01-29T11:23:15.407761",
     "exception": false,
     "start_time": "2022-01-29T11:23:15.353368",
     "status": "completed"
    },
    "tags": []
   },
   "source": []
  },
  {
   "cell_type": "markdown",
   "id": "3ae064ed",
   "metadata": {
    "papermill": {
     "duration": 0.054419,
     "end_time": "2022-01-29T11:23:15.517004",
     "exception": false,
     "start_time": "2022-01-29T11:23:15.462585",
     "status": "completed"
    },
    "tags": []
   },
   "source": [
    "### Question 1 - Naive Predictor Performace\n",
    "* If we chose a model that always predicted an individual made more than $50,000, what would  that model's accuracy and F-score be on this dataset? You must use the code cell below and assign your results to `'accuracy'` and `'fscore'` to be used later.\n",
    "\n",
    "** Please note ** that the the purpose of generating a naive predictor is simply to show what a base model without any intelligence would look like. In the real world, ideally your base model would be either the results of a previous model or could be based on a research paper upon which you are looking to improve. When there is no benchmark model set, getting a result better than random choice is a place you could start from.\n",
    "\n",
    "** HINT: ** \n",
    "\n",
    "* When we have a model that always predicts '1' (i.e. the individual makes more than 50k) then our model will have no True Negatives(TN) or False Negatives(FN) as we are not making any negative('0' value) predictions. Therefore our Accuracy in this case becomes the same as our Precision(True Positives/(True Positives + False Positives)) as every prediction that we have made with value '1' that should have '0' becomes a False Positive; therefore our denominator in this case is the total number of records we have in total. \n",
    "* Our Recall score(True Positives/(True Positives + False Negatives)) in this setting becomes 1 as we have no False Negatives."
   ]
  },
  {
   "cell_type": "markdown",
   "id": "53511eba",
   "metadata": {
    "papermill": {
     "duration": 0.055284,
     "end_time": "2022-01-29T11:23:15.627882",
     "exception": false,
     "start_time": "2022-01-29T11:23:15.572598",
     "status": "completed"
    },
    "tags": []
   },
   "source": []
  },
  {
   "cell_type": "code",
   "execution_count": 28,
   "id": "6dffca7a",
   "metadata": {
    "execution": {
     "iopub.execute_input": "2022-01-29T11:23:15.751108Z",
     "iopub.status.busy": "2022-01-29T11:23:15.749980Z",
     "iopub.status.idle": "2022-01-29T11:23:15.754991Z",
     "shell.execute_reply": "2022-01-29T11:23:15.755562Z",
     "shell.execute_reply.started": "2022-01-29T11:05:49.292243Z"
    },
    "papermill": {
     "duration": 0.071022,
     "end_time": "2022-01-29T11:23:15.755868",
     "exception": false,
     "start_time": "2022-01-29T11:23:15.684846",
     "status": "completed"
    },
    "tags": []
   },
   "outputs": [
    {
     "name": "stdout",
     "output_type": "stream",
     "text": [
      "Naive Predictor: [Accuracy score: 0.2478, F-score: 0.2917]\n"
     ]
    }
   ],
   "source": [
    "'''\n",
    "TP = np.sum(income) # Counting the ones as this is the naive case. Note that 'income' is the 'income_raw' data \n",
    "encoded to numerical values done in the data preprocessing step.\n",
    "FP = income.count() - TP # Specific to the naive case\n",
    "\n",
    "TN = 0 # No predicted negatives in the naive case\n",
    "FN = 0 # No predicted negatives in the naive case\n",
    "'''\n",
    "# TODO: Calculate accuracy, precision and recall\n",
    "accuracy = accuracy = np.sum(income)/income.count()\n",
    "recall = 1\n",
    "precision = accuracy = np.sum(income)/income.count()\n",
    "\n",
    "# TODO: Calculate F-score using the formula above for beta = 0.5 and correct values for precision and recall.\n",
    "fscore = 1.25 * (accuracy) / ( 0.25 * accuracy + 1)\n",
    "\n",
    "# Print the results \n",
    "print(\"Naive Predictor: [Accuracy score: {:.4f}, F-score: {:.4f}]\".format(accuracy, fscore))"
   ]
  },
  {
   "cell_type": "markdown",
   "id": "0b6eb012",
   "metadata": {
    "papermill": {
     "duration": 0.059344,
     "end_time": "2022-01-29T11:23:15.875269",
     "exception": false,
     "start_time": "2022-01-29T11:23:15.815925",
     "status": "completed"
    },
    "tags": []
   },
   "source": []
  },
  {
   "cell_type": "markdown",
   "id": "f9b5e0b9",
   "metadata": {
    "papermill": {
     "duration": 0.05828,
     "end_time": "2022-01-29T11:23:15.991924",
     "exception": false,
     "start_time": "2022-01-29T11:23:15.933644",
     "status": "completed"
    },
    "tags": []
   },
   "source": []
  }
 ],
 "metadata": {
  "kernelspec": {
   "display_name": "Python 3",
   "language": "python",
   "name": "python3"
  },
  "language_info": {
   "codemirror_mode": {
    "name": "ipython",
    "version": 3
   },
   "file_extension": ".py",
   "mimetype": "text/x-python",
   "name": "python",
   "nbconvert_exporter": "python",
   "pygments_lexer": "ipython3",
   "version": "3.7.12"
  },
  "papermill": {
   "default_parameters": {},
   "duration": 21.725608,
   "end_time": "2022-01-29T11:23:16.865764",
   "environment_variables": {},
   "exception": null,
   "input_path": "__notebook__.ipynb",
   "output_path": "__notebook__.ipynb",
   "parameters": {},
   "start_time": "2022-01-29T11:22:55.140156",
   "version": "2.3.3"
  }
 },
 "nbformat": 4,
 "nbformat_minor": 5
}
